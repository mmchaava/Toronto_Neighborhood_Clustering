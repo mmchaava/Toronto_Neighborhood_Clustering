{
 "cells": [
  {
   "cell_type": "code",
   "execution_count": null,
   "id": "90c09448",
   "metadata": {},
   "outputs": [],
   "source": [
    "# import libraries for accessing website url\n",
    "import requests"
   ]
  },
  {
   "cell_type": "code",
   "execution_count": null,
   "id": "2c037076",
   "metadata": {},
   "outputs": [],
   "source": [
    "# identify the website\n",
    "url = 'https://en.wikipedia.org/wiki/List_of_postal_codes_of_Canada:_M'"
   ]
  },
  {
   "cell_type": "code",
   "execution_count": null,
   "id": "7ea49906",
   "metadata": {},
   "outputs": [],
   "source": [
    "# Make request for website data\n",
    "data = requests.get(url).text"
   ]
  },
  {
   "cell_type": "code",
   "execution_count": null,
   "id": "c48c9f5a",
   "metadata": {},
   "outputs": [],
   "source": [
    "# Import library for webscrapping\n",
    "from bs4 import BeautifulSoup"
   ]
  },
  {
   "cell_type": "code",
   "execution_count": null,
   "id": "db33dead",
   "metadata": {},
   "outputs": [],
   "source": [
    "# Convert the data into html\n",
    "soup = BeautifulSoup(data, \"html5lib\")"
   ]
  },
  {
   "cell_type": "code",
   "execution_count": null,
   "id": "eeb97738",
   "metadata": {},
   "outputs": [],
   "source": [
    "# Creating a list, finding the table and data\n",
    "table_contents=[]\n",
    "table=soup.find('table')\n",
    "for row in table.findAll('td'):\n",
    "    cell = {}\n",
    "    if row.span.text=='Not assigned':\n",
    "        pass\n",
    "    else:\n",
    "        cell['PostalCode'] = row.p.text[:3]\n",
    "        cell['Borough'] = (row.span.text).split('(')[0]\n",
    "        cell['Neighborhood'] = (((((row.span.text).split('(')[1]).strip(')')).replace(' /',',')).replace(')',' ')).strip(' ')\n",
    "        table_contents.append(cell)\n",
    "\n",
    "        print(table_contents)"
   ]
  },
  {
   "cell_type": "code",
   "execution_count": null,
   "id": "7f129249",
   "metadata": {},
   "outputs": [],
   "source": [
    "# Import library to process data into pandas DataFrame\n",
    "import pandas as pd"
   ]
  },
  {
   "cell_type": "code",
   "execution_count": null,
   "id": "bb6310f1",
   "metadata": {},
   "outputs": [],
   "source": [
    "# Creating the pandas dataframe\n",
    "df=pd.DataFrame(table_contents)\n",
    "df['Borough']=df['Borough'].replace({'Downtown TorontoStn A PO Boxes25 The Esplanade':'Downtown Toronto Stn A',\n",
    "                                             'East TorontoBusiness reply mail Processing Centre969 Eastern':'East Toronto Business',\n",
    "                                             'EtobicokeNorthwest':'Etobicoke Northwest','East YorkEast Toronto':'East York/East Toronto',\n",
    "                                             'MississaugaCanada Post Gateway Processing Centre':'Mississauga'})"
   ]
  },
  {
   "cell_type": "code",
   "execution_count": null,
   "id": "bb801da8",
   "metadata": {},
   "outputs": [],
   "source": [
    "df.head()"
   ]
  },
  {
   "cell_type": "code",
   "execution_count": null,
   "id": "c911a890",
   "metadata": {},
   "outputs": [],
   "source": [
    "# Import library to get ready to save dataframe into a csv/json file\n",
    "import csv\n",
    "import json"
   ]
  },
  {
   "cell_type": "code",
   "execution_count": null,
   "id": "b7e14a76",
   "metadata": {},
   "outputs": [],
   "source": [
    "# SaveDdataFrame to csv file\n",
    "df.to_json('Toronto_data.json')\n",
    "df.to_csv('Toronto_data.csv')"
   ]
  },
  {
   "cell_type": "code",
   "execution_count": null,
   "id": "21165ef0",
   "metadata": {},
   "outputs": [],
   "source": [
    "# Read the geospacial file\n",
    "df1 = pd.read_csv(\"Geospatial_Coordinates.csv\")"
   ]
  },
  {
   "cell_type": "code",
   "execution_count": null,
   "id": "79aa6ef2",
   "metadata": {},
   "outputs": [],
   "source": [
    "df2 = pd.read_csv('Toronto_data.csv')"
   ]
  },
  {
   "cell_type": "code",
   "execution_count": null,
   "id": "9b5fda89",
   "metadata": {},
   "outputs": [],
   "source": [
    "df3 = pd.merge(df1, df2, on = 'PostalCode')\n",
    "df3"
   ]
  },
  {
   "cell_type": "code",
   "execution_count": null,
   "id": "5ae0a658",
   "metadata": {},
   "outputs": [],
   "source": [
    "df3.drop('Unnamed: 0', axis=1, inplace=True)"
   ]
  },
  {
   "cell_type": "code",
   "execution_count": null,
   "id": "d84a69d1",
   "metadata": {},
   "outputs": [],
   "source": [
    "df3.to_json('Neighborhood_t.json')"
   ]
  },
  {
   "cell_type": "code",
   "execution_count": null,
   "id": "366da719",
   "metadata": {},
   "outputs": [],
   "source": [
    "df3.to_csv('Neighborhood_t.csv')"
   ]
  },
  {
   "cell_type": "code",
   "execution_count": null,
   "id": "67a838a5",
   "metadata": {},
   "outputs": [],
   "source": []
  }
 ],
 "metadata": {
  "kernelspec": {
   "display_name": "Python 3",
   "language": "python",
   "name": "python3"
  },
  "language_info": {
   "codemirror_mode": {
    "name": "ipython",
    "version": 3
   },
   "file_extension": ".py",
   "mimetype": "text/x-python",
   "name": "python",
   "nbconvert_exporter": "python",
   "pygments_lexer": "ipython3",
   "version": "3.8.8"
  }
 },
 "nbformat": 4,
 "nbformat_minor": 5
}